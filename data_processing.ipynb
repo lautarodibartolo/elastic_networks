{
 "cells": [
  {
   "cell_type": "code",
   "execution_count": 1,
   "metadata": {},
   "outputs": [
    {
     "name": "stdout",
     "output_type": "stream",
     "text": [
      "Error reading env/rmsd_with.xvg: [Errno 2] No such file or directory: 'env/rmsd_with.xvg'\n",
      "Error reading env/rmsd_without.xvg: [Errno 2] No such file or directory: 'env/rmsd_without.xvg'\n",
      "      protein  elastic_network  time_ps   rmsd_nm\n",
      "0  smyomerger             True      0.0  0.004989\n",
      "1  smyomerger             True  10000.0  0.459542\n",
      "2  smyomerger             True  20000.0  0.546537\n",
      "3  smyomerger             True  30000.0  0.438401\n",
      "4  smyomerger             True  40000.0  0.415811\n"
     ]
    }
   ],
   "source": [
    "import pandas as pd\n",
    "from pathlib import Path\n",
    "\n",
    "# Get protein folders\n",
    "root_dir = Path('.')\n",
    "protein_folders = [f.name for f in root_dir.iterdir() if f.is_dir()]\n",
    "\n",
    "data_rows = []\n",
    "\n",
    "for protein in protein_folders:\n",
    "    for elastic_network in ['with', 'without']:\n",
    "        file_path = root_dir / protein / f'rmsd_{elastic_network}.xvg'\n",
    "        \n",
    "        try:\n",
    "            with open(file_path, 'r') as f:\n",
    "                for line in f:\n",
    "                    if not line.startswith(('#', '@')):\n",
    "                        time_ps, rmsd = map(float, line.strip().split())\n",
    "                        data_rows.append({\n",
    "                            'protein': protein,\n",
    "                            'elastic_network': elastic_network == 'with',\n",
    "                            'time_ps': time_ps,\n",
    "                            'rmsd_nm': rmsd\n",
    "                        })\n",
    "        except FileNotFoundError as e:\n",
    "            print(f\"Error reading {file_path}: {e}\")\n",
    "\n",
    "df = pd.DataFrame(data_rows)\n",
    "df.to_csv('rmsd_data.csv', index=False)\n",
    "print(df.head())"
   ]
  }
 ],
 "metadata": {
  "kernelspec": {
   "display_name": "env",
   "language": "python",
   "name": "python3"
  },
  "language_info": {
   "codemirror_mode": {
    "name": "ipython",
    "version": 3
   },
   "file_extension": ".py",
   "mimetype": "text/x-python",
   "name": "python",
   "nbconvert_exporter": "python",
   "pygments_lexer": "ipython3",
   "version": "3.13.0"
  }
 },
 "nbformat": 4,
 "nbformat_minor": 2
}
